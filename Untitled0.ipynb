{
  "nbformat": 4,
  "nbformat_minor": 0,
  "metadata": {
    "colab": {
      "name": "Untitled0.ipynb",
      "version": "0.3.2",
      "provenance": [],
      "include_colab_link": true
    },
    "kernelspec": {
      "name": "python3",
      "display_name": "Python 3"
    }
  },
  "cells": [
    {
      "cell_type": "markdown",
      "metadata": {
        "id": "view-in-github",
        "colab_type": "text"
      },
      "source": [
        "[View in Colaboratory](https://colab.research.google.com/github/OldCats/OldCats.github.io/blob/master/Untitled0.ipynb)"
      ]
    },
    {
      "metadata": {
        "id": "_Xt8TtGY8uP8",
        "colab_type": "code",
        "colab": {
          "base_uri": "https://localhost:8080/",
          "height": 68
        },
        "outputId": "7db559fc-5d03-4f95-f040-7e30f6ac9c7c"
      },
      "cell_type": "code",
      "source": [
        "# Install the PyDrive wrapper & import libraries.\n",
        "# This only needs to be done once per notebook.\n",
        "!pip install -U -q PyDrive\n",
        "from pydrive.auth import GoogleAuth\n",
        "from pydrive.drive import GoogleDrive\n",
        "from google.colab import auth\n",
        "from oauth2client.client import GoogleCredentials\n",
        "\n",
        "# Authenticate and create the PyDrive client.\n",
        "# This only needs to be done once per notebook.\n",
        "auth.authenticate_user()\n",
        "gauth = GoogleAuth()\n",
        "gauth.credentials = GoogleCredentials.get_application_default()\n",
        "drive = GoogleDrive(gauth)\n",
        "\n",
        "# List .txt files in the root.\n",
        "#\n",
        "# Search query reference:\n",
        "# https://developers.google.com/drive/v2/web/search-parameters\n",
        "listed = drive.ListFile({'q': \"title contains '.txt' and 'root' in parents\"}).GetList()\n",
        "for file in listed:\n",
        "  print('title {}, id {}'.format(file['title'], file['id']))\n",
        "\n",
        "version2"
      ],
      "execution_count": 0,
      "outputs": [
        {
          "output_type": "stream",
          "text": [
            "title BitLocker 修復金鑰 B2DB4BB9-666C-4878-9CB0-C0353E89EFCC.txt, id 0B9hffgxTtZSBXzlmMG4wWlB5SU0\n",
            "title test.txt, id 0B9hffgxTtZSBdl9aRWRXZksyS1k\n",
            "title test.txt, id 0B9hffgxTtZSBQ0pnVkFPblVmMmM\n"
          ],
          "name": "stdout"
        }
      ]
    },
    {
      "metadata": {
        "id": "W4qkm2dMrXZd",
        "colab_type": "code",
        "colab": {
          "base_uri": "https://localhost:8080/",
          "height": 68
        },
        "outputId": "d7f276b3-b3cb-448a-e25c-48de5e9469c3"
      },
      "cell_type": "code",
      "source": [
        "listed = drive.ListFile({'q': \"title contains '.txt' and 'root' in parents\"}).GetList()\n",
        "for file in listed:\n",
        "  print('title {}, id {}'.format(file['title'], file['id']))"
      ],
      "execution_count": 0,
      "outputs": [
        {
          "output_type": "stream",
          "text": [
            "title BitLocker 修復金鑰 B2DB4BB9-666C-4878-9CB0-C0353E89EFCC.txt, id 0B9hffgxTtZSBXzlmMG4wWlB5SU0\n",
            "title test.txt, id 0B9hffgxTtZSBdl9aRWRXZksyS1k\n",
            "title test.txt, id 0B9hffgxTtZSBQ0pnVkFPblVmMmM\n"
          ],
          "name": "stdout"
        }
      ]
    }
  ]
}